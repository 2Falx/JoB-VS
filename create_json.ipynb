{
 "cells": [
  {
   "cell_type": "code",
   "execution_count": 1,
   "metadata": {},
   "outputs": [],
   "source": [
    "import json, os\n",
    "from pathlib import Path"
   ]
  },
  {
   "cell_type": "code",
   "execution_count": 2,
   "metadata": {},
   "outputs": [],
   "source": [
    "dataset_path = \"/data/falcetta/Job-VS-TOPCOW/ORIGINAL/\"\n",
    "json_dir = '/home/falcetta/0_PhD/JOB-VS/JoB-VS/datasets/TOPCOW'\n",
    "json_out_filepath = os.path.join(json_dir, 'dataset.json')\n",
    "Path(json_dir).mkdir(parents=True, exist_ok=True)\n",
    "\n",
    "train_folder = os.path.join(dataset_path, \"train\")\n",
    "test_folder = os.path.join(dataset_path, \"test\")\n",
    "\n",
    "assert os.path.exists(train_folder), \"Train folder not found\"\n",
    "assert os.path.exists(test_folder), \"Test folder not found\""
   ]
  },
  {
   "cell_type": "markdown",
   "metadata": {},
   "source": [
    "### Generage Dataset json file"
   ]
  },
  {
   "cell_type": "code",
   "execution_count": 3,
   "metadata": {},
   "outputs": [
    {
     "name": "stdout",
     "output_type": "stream",
     "text": [
      "get_id function working\n"
     ]
    }
   ],
   "source": []
  },
  {
   "cell_type": "code",
   "execution_count": 4,
   "metadata": {},
   "outputs": [
    {
     "name": "stdout",
     "output_type": "stream",
     "text": [
      "Dataset (train) size: 77\n",
      "Dataset (test) size: 13\n"
     ]
    }
   ],
   "source": [
    "def extract_paired_list(dataset_complete_path, dataset_name=''):\n",
    "    \n",
    "    assert os.path.exists(dataset_complete_path), f\"{dataset_name} folder not found\"\n",
    "    assert dataset_name in ['train', 'test'], \"dataset_name must be 'train' or 'test'\"\n",
    "    \n",
    "    data_list = os.listdir(dataset_complete_path)\n",
    "    data_list = [os.path.join(dataset_name, x) for x in data_list]\n",
    "    data_img_list = sorted([x for x in data_list if 'ToF' in x])\n",
    "    data_label_list = sorted([x for x in data_list if 'vessel' in x])\n",
    "\n",
    "    assert len(data_img_list) == len(data_label_list), \"Images and labels have different length\"\n",
    "    print(f\"Dataset ({dataset_name}) size: {len(data_label_list)}\") \n",
    "\n",
    "\n",
    "    for img, label in zip(data_img_list, data_label_list):\n",
    "        assert get_id(img) == get_id(label), \"Images and labels are not aligned\"\n",
    "\n",
    "    return data_img_list, data_label_list\n",
    "\n",
    "train_img_list, train_label_list = extract_paired_list(train_folder,'train')\n",
    "test_img_list, test_label_list = extract_paired_list(test_folder, 'test')\n",
    "    \n",
    "val_img_list = []\n",
    "val_label_list = []\n"
   ]
  },
  {
   "cell_type": "code",
   "execution_count": 5,
   "metadata": {},
   "outputs": [
    {
     "name": "stdout",
     "output_type": "stream",
     "text": [
      "Validation set size: 13\n",
      "\n",
      "Val images: ['train/020_ToF.nii.gz', 'train/005_ToF.nii.gz', 'train/048_ToF.nii.gz', 'train/042_ToF.nii.gz', 'train/039_ToF.nii.gz', 'train/026_ToF.nii.gz', 'train/021_ToF.nii.gz', 'train/090_ToF.nii.gz', 'train/018_ToF.nii.gz', 'train/076_ToF.nii.gz', 'train/007_ToF.nii.gz', 'train/006_ToF.nii.gz', 'train/024_ToF.nii.gz']\n",
      "Val labels: ['train/020_vessel_mask.nii.gz', 'train/005_vessel_mask.nii.gz', 'train/048_vessel_mask.nii.gz', 'train/042_vessel_mask.nii.gz', 'train/039_vessel_mask.nii.gz', 'train/026_vessel_mask.nii.gz', 'train/021_vessel_mask.nii.gz', 'train/090_vessel_mask.nii.gz', 'train/018_vessel_mask.nii.gz', 'train/076_vessel_mask.nii.gz', 'train/007_vessel_mask.nii.gz', 'train/006_vessel_mask.nii.gz', 'train/024_vessel_mask.nii.gz']\n"
     ]
    }
   ],
   "source": [
    "\n"
   ]
  },
  {
   "cell_type": "code",
   "execution_count": 6,
   "metadata": {},
   "outputs": [
    {
     "name": "stdout",
     "output_type": "stream",
     "text": [
      "Train set size: 64 (71.11%)\n",
      "Validation set size: 13 (14.44%)\n",
      "Test set size: 13 (14.44%)\n"
     ]
    }
   ],
   "source": [
    "num_train, num_val, num_test = len(train_img_list), len(val_img_list), len(test_img_list)\n",
    "print(f\"Train set size: {num_train} ({num_train/(num_train+num_val+num_test)*100:.2f}%)\")\n",
    "print(f\"Validation set size: {num_val} ({num_val/(num_train+num_val+num_test)*100:.2f}%)\")\n",
    "print(f\"Test set size: {num_test} ({num_test/(num_train+num_val+num_test)*100:.2f}%)\")\n",
    "\n"
   ]
  },
  {
   "cell_type": "code",
   "execution_count": 7,
   "metadata": {},
   "outputs": [],
   "source": [
    "import json\n",
    "\n",
    "def create_json_file(description, labels, modality, name, root, train_img, train_label, val_img, val_label, test_img, test_label, output_file):\n",
    "    # Define the data structure\n",
    "    data = {\n",
    "        \"description\": description,\n",
    "        \"labels\": labels,\n",
    "        \"modality\": modality,\n",
    "        \"name\": name,\n",
    "        \"root\": root,\n",
    "        \"training\": [],\n",
    "        \"validation\": [],\n",
    "        \"test\": []\n",
    "    }\n",
    "\n",
    "    # Populate the training data\n",
    "    populate_json(train_img, train_label, data, \"training\")\n",
    "\n",
    "    # Populate the validation data\n",
    "    populate_json(val_img, val_label, data, \"validation\")\n",
    "\n",
    "    # Populate the test data\n",
    "    populate_json(test_img, test_label, data, \"test\")\n",
    "    \n",
    "    # Create a JSON file and write the data to it\n",
    "    with open(output_file, 'w') as json_file:\n",
    "        json.dump(data, json_file, indent=4)\n",
    "\n",
    "    print(f\"JSON file '{output_file}' created successfully!\")\n",
    "\n",
    "def populate_json(img_list, label_list, data, data_type):\n",
    "    for i in range(len(img_list)):\n",
    "        entry = {\n",
    "            \"image\": img_list[i],\n",
    "            \"label\": label_list[i],\n",
    "            \"monai_name\": img_list[i].replace(\"/\", \"_\").replace(\"_ToF\", \"\")\n",
    "        }\n",
    "        data[data_type].append(entry)\n",
    "\n",
    "\n"
   ]
  },
  {
   "cell_type": "code",
   "execution_count": 8,
   "metadata": {},
   "outputs": [
    {
     "name": "stdout",
     "output_type": "stream",
     "text": [
      "JSON file '/home/falcetta/0_PhD/JOB-VS/JoB-VS/datasets/TOPCOW/dataset.json' created successfully!\n"
     ]
    }
   ],
   "source": [
    "description = \"TOPCOW Dataset - 3D TOF MRA images of the Circle of Willis\"\n",
    "labels = {\n",
    "    \"0\": \"background\",\n",
    "    \"1\": \"vessels\"\n",
    "}\n",
    "modality = {\n",
    "    \"0\": \"tof\"\n",
    "}\n",
    "name = \"TOPCOW Dataset\"\n",
    "root = dataset_path\n",
    "\n",
    "\n",
    "create_json_file(description, labels, modality, name, root, train_img_list, train_label_list, val_img_list, val_label_list, test_img_list, test_label_list, json_out_filepath)"
   ]
  },
  {
   "cell_type": "markdown",
   "metadata": {},
   "source": [
    "### Generate stats json file"
   ]
  },
  {
   "cell_type": "code",
   "execution_count": 9,
   "metadata": {},
   "outputs": [
    {
     "name": "stdout",
     "output_type": "stream",
     "text": [
      "Stats file already exists\n"
     ]
    }
   ],
   "source": [
    "from libs.preprocessing.global_features import Global_features_general\n",
    "\n",
    "\n",
    "Global_features_general(json_out_filepath)\n"
   ]
  },
  {
   "cell_type": "code",
   "execution_count": 10,
   "metadata": {},
   "outputs": [],
   "source": [
    "dataset_path = \"/data/falcetta/Job-VS-TOPCOW/TRAINING/\""
   ]
  },
  {
   "cell_type": "code",
   "execution_count": 11,
   "metadata": {},
   "outputs": [
    {
     "name": "stdout",
     "output_type": "stream",
     "text": [
      "Running on rank 0.\n",
      "Traceback (most recent call last):\n",
      "  File \"main.py\", line 390, in <module>\n",
      "    main(0, 1, args)\n",
      "  File \"main.py\", line 50, in main\n",
      "    info, model_params = plan_experiment(\n",
      "  File \"/home/falcetta/0_PhD/JOB-VS/JoB-VS/settings.py\", line 18, in plan_experiment\n",
      "    small_size = dataset['small_size']\n",
      "KeyError: 'small_size'\n"
     ]
    }
   ],
   "source": [
    "!python main.py --batch 32 --data_ver datasets/TOPCOW  --name first_exp"
   ]
  },
  {
   "cell_type": "code",
   "execution_count": null,
   "metadata": {},
   "outputs": [],
   "source": []
  }
 ],
 "metadata": {
  "kernelspec": {
   "display_name": "jov-vs",
   "language": "python",
   "name": "python3"
  },
  "language_info": {
   "codemirror_mode": {
    "name": "ipython",
    "version": 3
   },
   "file_extension": ".py",
   "mimetype": "text/x-python",
   "name": "python",
   "nbconvert_exporter": "python",
   "pygments_lexer": "ipython3",
   "version": "3.8.10"
  },
  "orig_nbformat": 4
 },
 "nbformat": 4,
 "nbformat_minor": 2
}
